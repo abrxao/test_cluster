{
 "cells": [
  {
   "cell_type": "code",
   "execution_count": 2,
   "metadata": {},
   "outputs": [
    {
     "name": "stdout",
     "output_type": "stream",
     "text": [
      "30.862193350000005\n"
     ]
    }
   ],
   "source": [
    "import numpy as np\n",
    "import matplotlib.pyplot as plt"
   ]
  },
  {
   "cell_type": "code",
   "execution_count": 6,
   "metadata": {},
   "outputs": [
    {
     "name": "stdout",
     "output_type": "stream",
     "text": [
      "Number of GPUs available : 1\n",
      "Only GPU number 0 used.\n"
     ]
    }
   ],
   "source": [
    "# Results\n",
    "# X axis\n",
    "batch_size = [10, 20, 30, 40]\n",
    "# Y axis\n",
    "n_users = [10, 50, 100, 200, 500]\n",
    "\n",
    "GPU_time_mtx = np.array(\n",
    "    [\n",
    "        [3.33968159, 1.21448441, 1.20484757, 1.20683881],\n",
    "        [1.20395274, 1.20092377, 1.22550964, 1.27275446],\n",
    "        [1.27685839, 1.2167326, 1.3334493, 1.4076444],\n",
    "        [1.43887454, 1.32733899, 1.47767497, 1.64362053],\n",
    "        [1.67561587, 1.59558552, 2.04228889, 2.55751636],\n",
    "    ]\n",
    ")\n",
    "\n",
    "CPU_time_mtx = np.array(\n",
    "    [\n",
    "        [2.47876338, 1.53614029, 1.654967, 1.78799748],\n",
    "        [1.83627844, 2.60820633, 3.55381047, 4.79626307],\n",
    "        [2.64821859, 4.81362568, 6.73642, 9.19763397],\n",
    "        [5.12817738, 9.56979617, 14.91791624, 19.77867972],\n",
    "        [11.38908466, 24.42006851, 36.22114766, 49.495076],\n",
    "    ]\n",
    ")"
   ]
  }
 ],
 "metadata": {
  "kernelspec": {
   "display_name": ".venv",
   "language": "python",
   "name": "python3"
  },
  "language_info": {
   "codemirror_mode": {
    "name": "ipython",
    "version": 3
   },
   "file_extension": ".py",
   "mimetype": "text/x-python",
   "name": "python",
   "nbconvert_exporter": "python",
   "pygments_lexer": "ipython3",
   "version": "3.11.6"
  }
 },
 "nbformat": 4,
 "nbformat_minor": 2
}
